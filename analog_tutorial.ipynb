{
 "cells": [
  {
   "cell_type": "markdown",
   "id": "be945928",
   "metadata": {},
   "source": [
    "# Analog quantum computation: tutorial\n",
    "\n",
    "This tutorial shows how to execute an analog computation. One first prepares a job, that contains a Schedule (a description of the time-dependent Hamiltonian) and (optionally) an observable to be measured at the end of the simulation.\n",
    "\n",
    "## Time-independent case\n",
    "\n",
    "Here, we take a simple example of a time-independent Hamiltonian \n",
    "$$H = \\sigma_x $$\n",
    "and measure $\\langle \\sigma \\rangle$ after a time $t = \\pi$."
   ]
  },
  {
   "cell_type": "code",
   "execution_count": null,
   "id": "4c074d45",
   "metadata": {},
   "outputs": [],
   "source": [
    "# optional, only for Google colab\n",
    "\n",
    "!pip install myqlm\n",
    "!git clone https://github.com/tayral/phy580_2025.git\n",
    "%cd phy580_2025\n",
    "!ls"
   ]
  },
  {
   "cell_type": "code",
   "execution_count": null,
   "id": "1aee00a1",
   "metadata": {},
   "outputs": [],
   "source": [
    "import matplotlib.pyplot as plt\n",
    "from qat.core import Schedule, Observable\n",
    "\n",
    "from basic_qutip_qpu import QutipQPU\n",
    "\n",
    "# define an operator (here sigma_z acting on qubit 0, total number of qubits is 1)\n",
    "H = Observable.x(0, 1)\n",
    "sched = Schedule(drive = [(1, H)], tmax=3.14)\n",
    "# (in general, the drive is a list of pairs of the form (lambda(t), P)\n",
    "# where lambda(t) is a (possibly) time-dependent coefficient and P an operator (observable) )\n",
    "\n",
    "# instantiate the QPU (the simulator of quantum computer)\n",
    "qpu = QutipQPU()\n",
    "\n",
    "# construct a job from the schedule\n",
    "# a job is a schedule + an observable (here the observable is Z)\n",
    "job = sched.to_job(observable=Observable.z(0, 1))\n",
    "# submit : res contains the results\n",
    "res = qpu.submit(job)"
   ]
  },
  {
   "cell_type": "code",
   "execution_count": null,
   "id": "c4a86903",
   "metadata": {},
   "outputs": [],
   "source": [
    "# final value of the observable.\n",
    "print(\"<Z(tf)> = \", res.value)"
   ]
  },
  {
   "cell_type": "code",
   "execution_count": null,
   "id": "b69fd488",
   "metadata": {},
   "outputs": [],
   "source": [
    "# the simulator also computes the values of <Z> at intermediate times\n",
    "times = [float(x) for x in res.value_data.keys()]\n",
    "values = [res.value_data[x].re for x in res.value_data.keys()]\n",
    "plt.plot(times, values, \"-\")\n",
    "plt.xlabel(\"$t$\")\n",
    "plt.ylabel(r\"$\\langle Z\\rangle$\");"
   ]
  },
  {
   "cell_type": "markdown",
   "id": "d61fe694",
   "metadata": {},
   "source": [
    "## Time-dependent example\n",
    "\n",
    "Let us now just modify\n",
    "$$H = t \\sigma_x $$."
   ]
  },
  {
   "cell_type": "code",
   "execution_count": null,
   "id": "21f1204d",
   "metadata": {},
   "outputs": [],
   "source": [
    "from qat.core import Variable\n",
    "t = Variable(\"t\", float)\n",
    "\n",
    "sched2 = Schedule(drive = [(2.*t, H)], tmax=3.14)\n",
    "# (in general, the drive is a list of pairs of the form (lambda(t), P)\n",
    "# where lambda(t) is a (possibly) time-dependent coefficient and P an operator (observable) )\n",
    "\n",
    "# construct a job from the schedule\n",
    "# a job is a schedule + an observable (here the observable is Z)\n",
    "job2 = sched2.to_job(observable=Observable.z(0, 1))\n",
    "# submit : res contains the results\n",
    "res2 = qpu.submit(job2)\n",
    "\n"
   ]
  },
  {
   "cell_type": "code",
   "execution_count": null,
   "id": "030eaed9",
   "metadata": {},
   "outputs": [],
   "source": [
    "times2 = [float(x) for x in res2.value_data.keys()]\n",
    "values2 = [res2.value_data[x].re for x in res2.value_data.keys()]\n",
    "plt.plot(times2, values2, \"-\", label=r\"$\\langle Z(t) \\rangle$, time-dependent case\")\n",
    "plt.plot(times, values, \"--\", label=r\"$\\langle Z(t) \\rangle$, time-independent case\")\n",
    "\n",
    "plt.xlabel(\"$t$\")\n",
    "plt.ylabel(r\"$\\langle Z\\rangle$\");\n",
    "plt.legend();"
   ]
  },
  {
   "cell_type": "code",
   "execution_count": null,
   "id": "8d8686de",
   "metadata": {},
   "outputs": [],
   "source": []
  }
 ],
 "metadata": {
  "kernelspec": {
   "display_name": "Python 3 (ipykernel)",
   "language": "python",
   "name": "python3"
  },
  "language_info": {
   "codemirror_mode": {
    "name": "ipython",
    "version": 3
   },
   "file_extension": ".py",
   "mimetype": "text/x-python",
   "name": "python",
   "nbconvert_exporter": "python",
   "pygments_lexer": "ipython3",
   "version": "3.9.18"
  }
 },
 "nbformat": 4,
 "nbformat_minor": 5
}
