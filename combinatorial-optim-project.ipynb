{
 "cells": [
  {
   "cell_type": "markdown",
   "id": "0f0fd3c0",
   "metadata": {},
   "source": [
    "# Combinatorial optimization with Rydberg quantum computers\n",
    "\n",
    "This project will explore how quantum computers can be used to solve combinatorial optimization problems.\n",
    "\n",
    "\n",
    "We will focus on two approaches: one with gate-based (aka digital) quantum computers, one with analog quantum computers (aka quantum simulators).\n",
    "\n",
    "\n",
    "\n",
    "We will go through various steps:\n",
    "1. convert the optimization problem to the search of the ground state of a Hamiltonian\n",
    "Design a quantum algorithm to find the ground state\n",
    "2. analog algorithms\n",
    "3. gate-based algorithms\n",
    "\n",
    "\n",
    "This will be done with Rydberg quantum computers, as described in the following research article: http://arxiv.org/abs/1808.10816.\n",
    "\n",
    "\n",
    "## Quantum programming environment\n",
    "\n",
    "To execute the quantum programs, you will need to install the Python library called **myQLM** on your laptop. It can be installed by running the command\n",
    "\n",
    "``pip install myqlm``\n",
    "\n",
    "Then, you need to clone the course's repository to have access to the notebook and some helper functions:\n",
    "\n",
    "``git clone https://github.com/tayral/phy580_2025``\n",
    "\n",
    "It is highly advised to use the online documentation of myQLM at https://myqlm.github.io.\n",
    "\n",
    "\n",
    "Should you encounter problems with the installation (which may happen for Mac users using Anaconda), you can instead use \"myBinder\" to run the computations:\n",
    "[![Open In Colab](https://colab.research.google.com/assets/colab-badge.svg)](https://colab.research.google.com/github/tayral/phy580_2025/)\n",
    "\n",
    "... and open the ``combinatorial-optim-project.ipynb`` notebook."
   ]
  },
  {
   "cell_type": "code",
   "execution_count": null,
   "id": "2c7e084f",
   "metadata": {},
   "outputs": [],
   "source": [
    "# optional, only for Google colab\n",
    "\n",
    "!pip install myqlm\n",
    "!git clone https://github.com/tayral/phy580_2025.git\n",
    "%cd phy580_2025\n",
    "!ls"
   ]
  },
  {
   "cell_type": "markdown",
   "id": "9bcfce94",
   "metadata": {},
   "source": [
    "## 1. The Hamiltonian of the Maximum Independent Set problem\n",
    "\n",
    "\n",
    "\n",
    "<div class=\"alert alert-block alert-info\">\n",
    "    \n",
    "- Describe the maximum independent set problem as a constrained optimization problem.\n",
    "    \n",
    "- How does one arrive at eq. (1)?\n",
    "    \n",
    "- What is the naive (classical) cost of computing the ground state of $H$?\n",
    "</div>\n",
    "\n",
    "Describe this Hamiltonian with a myQLM ``Observable`` object, called ``H_target``. Use the ``get_matrix`` method to get the matrix representation of $H_\\mathrm{target}$. \n",
    "\n",
    "Hint: to create the Hamiltonian, you will need to first create a graph object. Use the ``networkx`` library to create such graphs. For simplicity, you can start by using \"d-regular graphs\".\n",
    "\n",
    "<div class=\"alert alert-block alert-info\">\n",
    "What is its size as a function of the size of the graph?\n",
    "</div>\n"
   ]
  },
  {
   "cell_type": "code",
   "execution_count": null,
   "id": "dd6d6657",
   "metadata": {},
   "outputs": [],
   "source": [
    "import networkx as nx\n",
    "import random\n",
    "random.seed(2534)\n",
    "size = 6\n",
    "d = 3 # degree\n",
    "graph = nx.generators.random_regular_graph(d, size)\n",
    "nx.draw(graph)\n",
    "\n",
    "approx_sol = nx.approximation.maximum_independent_set(graph)\n",
    "print(approx_sol)"
   ]
  },
  {
   "cell_type": "code",
   "execution_count": null,
   "id": "b76d8c0f",
   "metadata": {},
   "outputs": [],
   "source": [
    "U = 1.\n",
    "from qat.core import Observable, Term\n",
    "nqbits = size\n",
    "# implement\n",
    "# H_target = sum_i n_i - U sum_ij n_i n_j\n",
    "# ...\n",
    "    \n",
    "print(H_target)\n"
   ]
  },
  {
   "cell_type": "code",
   "execution_count": null,
   "id": "054ba5a4",
   "metadata": {},
   "outputs": [],
   "source": [
    "import numpy as np\n",
    "mat = H_target.to_matrix()\n",
    "sol = np.argmin(mat.diagonal())\n",
    "print(sol, np.binary_repr(sol, width=size))"
   ]
  },
  {
   "cell_type": "markdown",
   "id": "2f490f47",
   "metadata": {},
   "source": [
    "## 2. Analog implementation for the Maximum Independent Set problem\n",
    "\n",
    "### Part a: do the tutorial (analog_tutorial.ipynb)\n",
    "\n",
    "It explains how to send \"analog\" jobs to QPUs.\n",
    "\n",
    "### Part b: adapt it for the Rydberg situation\n",
    "\n",
    "<div class=\"alert alert-block alert-info\">\n",
    "    \n",
    "- In a Rydberg processor, what is the Hamiltonian $H_\\mathrm{resource}$ that can be implemented in practice (find it in the article)?\n",
    "    \n",
    "- In the quantum adiabatic annealing method, what is the form $H_{QAA}$ of the time-dependent Hamiltonian that is needed? (what is $H_0$?)\n",
    "    \n",
    "- Are $H_\\mathrm{resource}$ and $H_{QAA}$ identical?\n",
    "</div>\n",
    "\n",
    "\n",
    "Write a ``Schedule`` that represents $H_{QAA}$ (for now, without consideration for the difference with the available resource Hamiltonian). \n"
   ]
  },
  {
   "cell_type": "code",
   "execution_count": null,
   "id": "fd93517b",
   "metadata": {},
   "outputs": [],
   "source": [
    "from qat.core import Schedule\n",
    "\n",
    "\n",
    "## define the Schedule"
   ]
  },
  {
   "cell_type": "markdown",
   "id": "cf65d089",
   "metadata": {},
   "source": [
    "### Part c: run the algorithm\n",
    "\n",
    "Now, use a \"QPU\" to run the Schedule and measure H_target at the end."
   ]
  },
  {
   "cell_type": "code",
   "execution_count": null,
   "id": "50b14a1c",
   "metadata": {},
   "outputs": [],
   "source": [
    "from basic_qutip_qpu import QutipQPU\n",
    "\n",
    "qpu = QutipQPU() # a classical emulator of an analog QPU\n",
    "\n",
    "# create a quantum job with a schedule and observable to be measured at the end.\n",
    "\n",
    "# res = qpu.submit(...)"
   ]
  },
  {
   "cell_type": "markdown",
   "id": "d56bade7",
   "metadata": {},
   "source": [
    "#### Studying of the role of the various parameters\n",
    "\n",
    "<div class=\"alert alert-block alert-info\">\n",
    "    \n",
    "- What happens if you increase the annealing time? (this parameter is defined in the ``Schedule``object)\n",
    "    \n",
    "- How to read off the solution to the MIS problem? (Hint: use a job that samples the final distribution)\n",
    "    \n",
    "</div>"
   ]
  },
  {
   "cell_type": "code",
   "execution_count": null,
   "id": "56ed67e3",
   "metadata": {},
   "outputs": [],
   "source": [
    "# here, your code"
   ]
  },
  {
   "cell_type": "markdown",
   "id": "44bac8f7",
   "metadata": {},
   "source": [
    "#### More realistic simulation: with the true Hamiltonian of Rydbergs\n",
    "\n",
    "Now, we want to actually use $H_\\mathrm{resource}$. For this we can tune $\\Delta(t)$ and $\\Omega(t)$ (see Eq. (2) in the article) so that $H_\\mathrm{resource}(t)$ looks similar to $H_{QAA}(t)$.\n",
    "\n",
    "Remarks:\n",
    "\n",
    "- in QA, the starting state needs to be the GS of $H_0$. In a Rydberg platform, the initial state is always $|0,0,\\dots,0\\rangle$. How to tune $\\Delta(t=0)$ so that the ground state is indeed $|0,0,\\dots,0\\rangle$?\n",
    "\n",
    "- in what types of graphs can Rydberg atoms actually implement?"
   ]
  },
  {
   "cell_type": "code",
   "execution_count": null,
   "id": "73e3dbc1",
   "metadata": {},
   "outputs": [],
   "source": [
    "# here, your code"
   ]
  },
  {
   "cell_type": "markdown",
   "id": "1d706f88",
   "metadata": {},
   "source": [
    "<div class=\"alert alert-block alert-info\">\n",
    "What do you observe?\n",
    "</div>"
   ]
  },
  {
   "cell_type": "markdown",
   "id": "c4b003fa",
   "metadata": {},
   "source": [
    "### Part d: exact solution\n",
    "\n",
    "To know how good our solution is, we need to find the optimal solution. Given $H_\\mathrm{target}$, how do you extract the exact solution? What is the cost as a function of graph size?"
   ]
  },
  {
   "cell_type": "markdown",
   "id": "e5856413",
   "metadata": {},
   "source": [
    "### Going beyond unit-disk graphs\n",
    "\n",
    "\n",
    "<div class=\"alert alert-block alert-info\">\n",
    "\n",
    "- Is it possible to handle graphs which are not unit-disk graphs? How so? What additional assumptions do you need on the hardware?\n",
    "    \n",
    "</div>"
   ]
  },
  {
   "cell_type": "markdown",
   "id": "32a3b68f",
   "metadata": {},
   "source": [
    "## 3. Gate-based implementation for the MIS problem\n",
    "\n",
    "\n",
    "We now assume we can use the Rydberg atom platform as a digital (gate-based) platform.\n",
    "\n",
    "<div class=\"alert alert-block alert-info\">\n",
    "\n",
    "- Under which conditions can one use a Rydberg platform as a gate-based quantum computer?\n",
    "\n",
    "</div>\n",
    "\n",
    "\n",
    "### Prerequisite\n",
    "\n",
    "Do the myQLM tutorial on digital (gate-based) computation: ``digital_tutorial.ipynb``.\n",
    "\n",
    "### QAOA algorithm\n",
    "\n",
    "\n",
    "<div class=\"alert alert-block alert-info\">\n",
    "    \n",
    "- Describe the QAOA algorithm for a general combinatorial optimization problem (look at appendix I.B.1 of the article)\n",
    "    \n",
    "- What is the role of parameter $p$?\n",
    "    \n",
    "- In your case, what energy are you tring to maximize?\n",
    "    \n",
    "- What is the form of the ansatz circuit?\n",
    "    \n",
    "</div>\n",
    "\n",
    "We are now going to implement QAOA with myQLM.\n",
    "\n",
    "\n",
    "#### Ansatz circuit\n",
    "\n",
    "Using the same graph you used before (e.g the d-regular graph above), construct a parametric quantum circuit (see the documentation here: https://myqlm.github.io/02_user_guide/01_write/01_digital_circuit/02_variational.html)"
   ]
  },
  {
   "cell_type": "code",
   "execution_count": null,
   "id": "4e71e2be",
   "metadata": {},
   "outputs": [],
   "source": [
    "from qat.lang.AQASM import Program, H, RX\n",
    "\n",
    "size = 10\n",
    "d = 3 # degree\n",
    "graph = nx.generators.random_regular_graph(d, size)\n",
    "\n",
    "# prog = Program()\n",
    "# ... create variables\n",
    "# ... add gates depending on these variables\n",
    "\n",
    "# var_circ = prog.to_circ()\n",
    "\n"
   ]
  },
  {
   "cell_type": "markdown",
   "id": "addc4e34",
   "metadata": {},
   "source": [
    "### Optimization\n",
    "\n",
    "In Qaptiva, the optimization is done with \"plugins\". They essentially perform the optimization of the parameters for a given cost function."
   ]
  },
  {
   "cell_type": "code",
   "execution_count": null,
   "id": "e6d573cb",
   "metadata": {},
   "outputs": [],
   "source": [
    "#### solution \n",
    "from qat.qpus import get_default_qpu\n",
    "from qat.plugins import ScipyMinimizePlugin\n",
    "\n",
    "qpu = get_default_qpu() # a classical emulator of gate-based QPUs.\n",
    "plugin = ScipyMinimizePlugin(method=\"COBYLA\",\n",
    "                            tol=1e-5, \n",
    "                            options={\"maxiter\": 200})\n",
    "stack = plugin | qpu\n",
    "\n",
    "job = var_circ.to_job(observable = H_target) \n",
    "result = stack.submit(job)\n",
    "print(\"Final energy:\", result.value)"
   ]
  },
  {
   "cell_type": "code",
   "execution_count": null,
   "id": "58264a39",
   "metadata": {},
   "outputs": [],
   "source": [
    "import matplotlib.pyplot as plt\n",
    "plt.plot(eval(result.meta_data[\"optimization_trace\"]))\n",
    "plt.xlabel(\"steps\")\n",
    "plt.ylabel(\"energy\")\n",
    "plt.show()"
   ]
  },
  {
   "cell_type": "markdown",
   "id": "13709bbc",
   "metadata": {},
   "source": [
    "### Reading off the solution\n",
    "\n",
    "The QAOA procedure yields a value of the optimized parameters, contained in the ``result`` variable (see ``result.meta_data`` field). We now want to recover the state corresponding to these optimized parameters, so that we can read the solution to the UDMIS problem.\n",
    "\n",
    "For this, we need to evaluate our parameterized quantum circuit ``var_circ`` on the optimized values of the variables.\n",
    "This can be achieved like this: if a circuit has a single variable ``toto``, then replacing occurrences of ``toto`` by its value (say 5) can be done via:\n",
    "\n",
    "```python\n",
    "dic = {\"toto\" : 5.0}\n",
    "circ = var_circ(**dic)\n",
    "```"
   ]
  },
  {
   "cell_type": "code",
   "execution_count": null,
   "id": "fa98c92b",
   "metadata": {},
   "outputs": [],
   "source": [
    "# retrieving the parameters\n",
    "# replacing in var_circ\n",
    "# executing the circ on the QPU in \"SAMPLE\" mode (no observables)"
   ]
  },
  {
   "cell_type": "markdown",
   "id": "a41cda4a",
   "metadata": {},
   "source": [
    "## 4. Conclusions\n",
    "\n",
    "<div class=\"alert alert-block alert-info\">\n",
    "\n",
    "- What are the respective advantages and drawbacks of QA (analog) and QAOA (gate-based)?\n",
    "    \n",
    "- Compared to the exact solution, how do quantum algorithms fare?\n",
    "\n",
    "</div>\n",
    "\n",
    "## 5. Going beyond\n",
    "\n",
    "- Here, we have used for simplicity d-regular graphs. Repeat the experiments on actual unit-disk graphs (for this, think how to generate random unit-disk graphs\n",
    "\n",
    "- What do you expect the role of decoherence to be in both cases?"
   ]
  },
  {
   "cell_type": "code",
   "execution_count": null,
   "id": "711bf49b",
   "metadata": {},
   "outputs": [],
   "source": []
  }
 ],
 "metadata": {
  "kernelspec": {
   "display_name": "Python 3 (ipykernel)",
   "language": "python",
   "name": "python3"
  },
  "language_info": {
   "codemirror_mode": {
    "name": "ipython",
    "version": 3
   },
   "file_extension": ".py",
   "mimetype": "text/x-python",
   "name": "python",
   "nbconvert_exporter": "python",
   "pygments_lexer": "ipython3",
   "version": "3.9.21"
  }
 },
 "nbformat": 4,
 "nbformat_minor": 5
}
