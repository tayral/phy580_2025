{
 "cells": [
  {
   "cell_type": "markdown",
   "metadata": {},
   "source": [
    "# Tutorial 1: Simple quantum circuits\n",
    "\n",
    "## Prerequisite: installation of myqlm\n",
    "\n",
    "    pip install myqlm\n",
    "\n",
    "    pip install myqlm-simulators\n",
    "\n",
    "## Documentation\n",
    "\n",
    "You will find code examples on https://myqlm.github.io.\n",
    "\n",
    "## 1. Bell state circuit\n",
    "\n",
    "Our aim is to prepare the Bell state $$\\frac{|00\\rangle + |11\\rangle}{\\sqrt{2}}$$\n",
    "\n",
    "### Solution"
   ]
  },
  {
   "cell_type": "code",
   "execution_count": 1,
   "metadata": {},
   "outputs": [
    {
     "data": {
      "image/png": "[encoded data removed]",
      "text/plain": [
       "<IPython.core.display.Image object>"
      ]
     },
     "execution_count": 1,
     "metadata": {},
     "output_type": "execute_result"
    }
   ],
   "source": [
    "from qat.lang.AQASM import H, CNOT, Program\n",
    "\n",
    "prog = Program()\n",
    "reg = prog.qalloc(2)\n",
    "\n",
    "prog.apply(H, reg[0])\n",
    "prog.apply(CNOT, reg)\n",
    "\n",
    "circ = prog.to_circ()\n",
    "\n",
    "%qatdisplay circ"
   ]
  },
  {
   "cell_type": "markdown",
   "metadata": {},
   "source": [
    "We now execute this circuit on a Quantum Processing Unit (QPU):"
   ]
  },
  {
   "cell_type": "code",
   "execution_count": 2,
   "metadata": {},
   "outputs": [],
   "source": [
    "from qat.qpus import get_default_qpu\n",
    "qpu = get_default_qpu()\n",
    "\n",
    "job = circ.to_job(nbshots=10, aggregate_data=False)\n",
    "res = qpu.submit(job)"
   ]
  },
  {
   "cell_type": "markdown",
   "metadata": {},
   "source": [
    "The number of shots is the number of independent final $Z$-axis measurements on the quantum state. Thus, we expect to see the 10 outcomes of measuring both qubits on the $Z$ axis. "
   ]
  },
  {
   "cell_type": "markdown",
   "metadata": {},
   "source": [
    "We print the results:"
   ]
  },
  {
   "cell_type": "code",
   "execution_count": 3,
   "metadata": {},
   "outputs": [
    {
     "name": "stdout",
     "output_type": "stream",
     "text": [
      "|00>\n",
      "|00>\n",
      "|11>\n",
      "|00>\n",
      "|11>\n",
      "|11>\n",
      "|00>\n",
      "|00>\n",
      "|11>\n",
      "|00>\n"
     ]
    }
   ],
   "source": [
    "for sample in res:\n",
    "    print(sample.state)"
   ]
  },
  {
   "cell_type": "markdown",
   "metadata": {},
   "source": [
    "We can tell the QPU to aggregate the data, i.e collect the statistics of the outcomes to compute the histogram of the shots, and hence the estimated probability (``sample.probability``) (with its statistical error ``sample.err``) of a computational state in the final distribution:"
   ]
  },
  {
   "cell_type": "code",
   "execution_count": 4,
   "metadata": {},
   "outputs": [
    {
     "name": "stdout",
     "output_type": "stream",
     "text": [
      "|00> 0.5 0.16666666666666666\n",
      "|11> 0.5 0.16666666666666666\n"
     ]
    }
   ],
   "source": [
    "job = circ.to_job(nbshots=10)\n",
    "res = qpu.submit(job)\n",
    "for sample in res:\n",
    "    print(sample.state, sample.probability, sample.err)"
   ]
  },
  {
   "cell_type": "markdown",
   "metadata": {},
   "source": [
    "Finally, since we are performing classical simulation, we have access to the exact probabilities, and to the probability amplitudes of the states (because we are doing pure-state simulations at this stage). This is achieved by choosing an infinite number of shots, which we choose, by convention, by setting ``nbshots=0``:"
   ]
  },
  {
   "cell_type": "code",
   "execution_count": 5,
   "metadata": {},
   "outputs": [
    {
     "name": "stdout",
     "output_type": "stream",
     "text": [
      "|00> 0.4999999999999999 (0.7071067811865475+0j)\n",
      "|11> 0.4999999999999999 (0.7071067811865475+0j)\n"
     ]
    }
   ],
   "source": [
    "job = circ.to_job(nbshots=0)\n",
    "res = qpu.submit(job)\n",
    "for sample in res:\n",
    "    print(sample.state, sample.probability, sample.amplitude)"
   ]
  },
  {
   "cell_type": "markdown",
   "metadata": {},
   "source": [
    "## 2. Teleportation\n",
    "\n",
    "Alice wants to send a qubit in state $|\\psi\\rangle$ to Bob with the help of a shared entangled pair between Alice and Bob.\n",
    "\n",
    "\n",
    "\n",
    "### Solution\n",
    "We suppose Alice has a state $\\cos(\\alpha/2) |0\\rangle - i \\sin(\\alpha/2) |1\\rangle$, and teleport it to Bob."
   ]
  },
  {
   "cell_type": "code",
   "execution_count": 6,
   "metadata": {},
   "outputs": [
    {
     "data": {
      "image/png": "[encoded data removed]",
      "text/plain": [
       "<IPython.core.display.Image object>"
      ]
     },
     "execution_count": 6,
     "metadata": {},
     "output_type": "execute_result"
    }
   ],
   "source": [
    "from qat.lang.AQASM import RX, X, Z\n",
    "\n",
    "alpha = 0.45\n",
    "\n",
    "prog = Program()\n",
    "reg = prog.qalloc(3) # 1 qubit for |psi>, 2 qubits for Bell state\n",
    "creg = prog.calloc(2) # 2 classical bits\n",
    "# prepare state on Alice's side (unknown to Bob)\n",
    "prog.apply(RX(alpha), reg[0])\n",
    "\n",
    "# prepare Bell state\n",
    "prog.apply(H, reg[1])\n",
    "prog.apply(CNOT, reg[1], reg[2])\n",
    "\n",
    "# teleportation circuit\n",
    "CNOT(reg[0], reg[1]) # equivalent to prog.apply(CNOT, reg[0], reg[1])\n",
    "H(reg[0])\n",
    "prog.measure(reg[0], creg[0])\n",
    "prog.measure(reg[1], creg[1])\n",
    "prog.cc_apply(creg[1], X, reg[2])\n",
    "prog.cc_apply(creg[0], Z, reg[2])\n",
    "\n",
    "circ = prog.to_circ()\n",
    "\n",
    "%qatdisplay circ"
   ]
  },
  {
   "cell_type": "markdown",
   "metadata": {},
   "source": [
    "Let us now execute the circuit, supposing we have infinite statistics (infinite number of shots):"
   ]
  },
  {
   "cell_type": "code",
   "execution_count": 7,
   "metadata": {},
   "outputs": [
    {
     "name": "stdout",
     "output_type": "stream",
     "text": [
      "|110> (0.9747941070689433+0j) 0.9502235511763385\n",
      "|111> (-0-0.22310636213174545j) 0.04977644882366154\n"
     ]
    }
   ],
   "source": [
    "qpu = get_default_qpu()\n",
    "job = circ.to_job(nbshots=0)\n",
    "res = qpu.submit(job)\n",
    "\n",
    "for sample in res:\n",
    "    print(sample.state, sample.amplitude, sample.probability)"
   ]
  },
  {
   "cell_type": "code",
   "execution_count": 8,
   "metadata": {},
   "outputs": [
    {
     "name": "stdout",
     "output_type": "stream",
     "text": [
      "Expecting: 0.9747941070689433 |0> - i 0.22310636213174545 |1>\n"
     ]
    }
   ],
   "source": [
    "import numpy as np\n",
    "# Expected result\n",
    "# RX(alpha) |0> = cos(alpha/2) - i sin(alpha/2)\n",
    "print(\"Expecting: %s |0> - i %s |1>\"%(np.cos(alpha/2), np.sin(alpha/2)))"
   ]
  }
 ],
 "metadata": {
  "kernelspec": {
   "display_name": "Python 3 (ipykernel)",
   "language": "python",
   "name": "python3"
  },
  "language_info": {
   "codemirror_mode": {
    "name": "ipython",
    "version": 3
   },
   "file_extension": ".py",
   "mimetype": "text/x-python",
   "name": "python",
   "nbconvert_exporter": "python",
   "pygments_lexer": "ipython3",
   "version": "3.9.7"
  }
 },
 "nbformat": 4,
 "nbformat_minor": 4
}
