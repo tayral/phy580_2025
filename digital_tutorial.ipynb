{
 "cells": [
  {
   "cell_type": "markdown",
   "metadata": {},
   "source": [
    "# Simple quantum circuits\n",
    "\n",
    "## Prerequisite: installation of myqlm\n",
    "\n",
    "    pip install myqlm\n",
    "\n",
    "\n",
    "## Documentation\n",
    "\n",
    "You will find code examples on https://myqlm.github.io.\n",
    "\n",
    "## 1. Bell state circuit\n",
    "\n",
    "Our aim is to prepare the Bell state $$\\frac{|00\\rangle + |11\\rangle}{\\sqrt{2}}$$\n",
    "\n",
    "### Solution"
   ]
  },
  {
   "cell_type": "code",
   "execution_count": null,
   "metadata": {},
   "outputs": [],
   "source": [
    "from qat.lang.AQASM import H, CNOT, Program\n",
    "\n",
    "prog = Program()\n",
    "reg = prog.qalloc(2)\n",
    "\n",
    "prog.apply(H, reg[0])\n",
    "prog.apply(CNOT, reg)\n",
    "\n",
    "circ = prog.to_circ()\n",
    "\n",
    "%qatdisplay circ"
   ]
  },
  {
   "cell_type": "markdown",
   "metadata": {},
   "source": [
    "We now execute this circuit on a Quantum Processing Unit (QPU):"
   ]
  },
  {
   "cell_type": "code",
   "execution_count": null,
   "metadata": {},
   "outputs": [],
   "source": [
    "from qat.qpus import get_default_qpu\n",
    "qpu = get_default_qpu()\n",
    "\n",
    "job = circ.to_job(nbshots=10, aggregate_data=False)\n",
    "res = qpu.submit(job)"
   ]
  },
  {
   "cell_type": "markdown",
   "metadata": {},
   "source": [
    "The number of shots is the number of independent final $Z$-axis measurements on the quantum state. Thus, we expect to see the 10 outcomes of measuring both qubits on the $Z$ axis. "
   ]
  },
  {
   "cell_type": "markdown",
   "metadata": {},
   "source": [
    "We print the results:"
   ]
  },
  {
   "cell_type": "code",
   "execution_count": null,
   "metadata": {},
   "outputs": [],
   "source": [
    "for sample in res:\n",
    "    print(sample.state)"
   ]
  },
  {
   "cell_type": "markdown",
   "metadata": {},
   "source": [
    "We can tell the QPU to aggregate the data, i.e collect the statistics of the outcomes to compute the histogram of the shots, and hence the estimated probability (``sample.probability``) (with its statistical error ``sample.err``) of a computational state in the final distribution:"
   ]
  },
  {
   "cell_type": "code",
   "execution_count": null,
   "metadata": {},
   "outputs": [],
   "source": [
    "job = circ.to_job(nbshots=10)\n",
    "res = qpu.submit(job)\n",
    "for sample in res:\n",
    "    print(sample.state, sample.probability, sample.err)"
   ]
  },
  {
   "cell_type": "markdown",
   "metadata": {},
   "source": [
    "Finally, since we are performing classical simulation, we have access to the exact probabilities, and to the probability amplitudes of the states (because we are doing pure-state simulations at this stage). This is achieved by choosing an infinite number of shots, which we choose, by convention, by setting ``nbshots=0``:"
   ]
  },
  {
   "cell_type": "code",
   "execution_count": null,
   "metadata": {},
   "outputs": [],
   "source": [
    "job = circ.to_job(nbshots=0)\n",
    "res = qpu.submit(job)\n",
    "for sample in res:\n",
    "    print(sample.state, sample.probability, sample.amplitude)"
   ]
  },
  {
   "cell_type": "markdown",
   "metadata": {},
   "source": [
    "## 2. A simple variational algorithm\n",
    "\n",
    "Here we study how to compute the (approximate) ground state energy of a Hamiltonian, here $$H = X_0 X_1 + Y_0 Y_1 + Z_0 Z_1.$$\n",
    "\n"
   ]
  },
  {
   "cell_type": "code",
   "execution_count": null,
   "metadata": {},
   "outputs": [],
   "source": [
    "from qat.core import Observable as Obs, Term\n",
    "from qat.lang import Program, RY, CNOT\n",
    "from qat.qpus import get_default_qpu\n",
    "from qat.plugins import ScipyMinimizePlugin\n",
    "\n",
    "# we instantiate the Hamiltonian we want to approximate the ground state energy of\n",
    "hamiltonian = (\n",
    "    Obs.sigma_z(0) * Obs.sigma_z(1)\n",
    "    + Obs.sigma_x(0) * Obs.sigma_x(1)\n",
    "    + Obs.sigma_y(0) * Obs.sigma_y(1)\n",
    ")"
   ]
  },
  {
   "cell_type": "markdown",
   "metadata": {},
   "source": [
    "Our variational circuit is very simple, it has only two parameters:"
   ]
  },
  {
   "cell_type": "code",
   "execution_count": null,
   "metadata": {},
   "outputs": [],
   "source": [
    "# we construct the variational circuit (ansatz)\n",
    "prog = Program()\n",
    "reg = prog.qalloc(2)\n",
    "thetas = [prog.new_var(float, '\\\\theta_%s'%i) for i in range(2)]\n",
    "RY(thetas[0])(reg[0])\n",
    "RY(thetas[1])(reg[1])\n",
    "CNOT(reg[0], reg[1])\n",
    "var_circ = prog.to_circ()\n",
    "\n",
    "var_circ.display()"
   ]
  },
  {
   "cell_type": "code",
   "execution_count": null,
   "metadata": {},
   "outputs": [],
   "source": [
    "# construct a (variational) job with the variational circuit and the observable\n",
    "job = var_circ.to_job(observable=hamiltonian)\n",
    "\n",
    "# we now build a stack that can handle variational jobs\n",
    "qpu = get_default_qpu()\n",
    "optimizer_scipy = ScipyMinimizePlugin(method=\"COBYLA\",\n",
    "                                        tol=1e-6,\n",
    "                                        options={\"maxiter\": 200},\n",
    "                                        x0=[0, 0])\n",
    "stack = optimizer_scipy | qpu\n",
    "\n",
    "# we submit the job and print the optimized variational energy (the exact GS energy is -3)\n",
    "result = stack.submit(job)\n",
    "# the output of the optimizer can be found here\n",
    "print(result.meta_data['optimizer_data'])\n",
    "print(f\"Minimum VQE energy = {result.value}\")"
   ]
  },
  {
   "cell_type": "code",
   "execution_count": null,
   "metadata": {},
   "outputs": [],
   "source": [
    "import matplotlib.pyplot as plt\n",
    "plt.plot(eval(result.meta_data['optimization_trace']))\n",
    "plt.xlabel(\"optimization step\")\n",
    "plt.ylabel(\"energy\");"
   ]
  },
  {
   "cell_type": "code",
   "execution_count": null,
   "metadata": {},
   "outputs": [],
   "source": [
    "# what is the final state?\n",
    "# we replace the variables by their optimal values\n",
    "\n",
    "angles = eval(result.meta_data[\"parameter_map\"])\n",
    "print(angles)\n",
    "\n",
    "circ = var_circ(**angles)\n",
    "circ.display()"
   ]
  },
  {
   "cell_type": "code",
   "execution_count": null,
   "metadata": {},
   "outputs": [],
   "source": [
    "# we run the corresponding circuit\n",
    "\n",
    "qpu = get_default_qpu()\n",
    "res = qpu.submit(circ.to_job()) # this time the job has no observable, to obtain samples only\n",
    "for sample in res:\n",
    "    print(sample.state, sample.probability)"
   ]
  },
  {
   "cell_type": "markdown",
   "metadata": {},
   "source": [
    "Comment on this result."
   ]
  },
  {
   "cell_type": "code",
   "execution_count": null,
   "metadata": {},
   "outputs": [],
   "source": []
  }
 ],
 "metadata": {
  "kernelspec": {
   "display_name": "Python 3 (ipykernel)",
   "language": "python",
   "name": "python3"
  },
  "language_info": {
   "codemirror_mode": {
    "name": "ipython",
    "version": 3
   },
   "file_extension": ".py",
   "mimetype": "text/x-python",
   "name": "python",
   "nbconvert_exporter": "python",
   "pygments_lexer": "ipython3",
   "version": "3.9.18"
  }
 },
 "nbformat": 4,
 "nbformat_minor": 4
}
